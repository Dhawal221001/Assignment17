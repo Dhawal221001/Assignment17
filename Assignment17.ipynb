{
 "cells": [
  {
   "cell_type": "markdown",
   "id": "63a9d1a3-d1aa-40ea-8bf1-48ba499a12e4",
   "metadata": {},
   "source": [
    "## Q1. What is an API? Give an example, where an API is used in real life."
   ]
  },
  {
   "cell_type": "markdown",
   "id": "8ab4fde6-89d9-4234-ac99-6124a20becb5",
   "metadata": {},
   "source": [
    "### API is an application programming interface that allows software applications to interact with each other.\n",
    "### The most commonly used API is Google map API, that is used by various developers and softwares to retrieve data Google Maps."
   ]
  },
  {
   "cell_type": "markdown",
   "id": "42083c22-f40c-4e65-9e19-96ea8d930387",
   "metadata": {},
   "source": [
    "## Q2. Give advantages and disadvantages of using API."
   ]
  },
  {
   "cell_type": "markdown",
   "id": "094f1a44-ccae-4a5f-97c6-70dbf46db923",
   "metadata": {},
   "source": [
    "## Advantages of using API:\n",
    "### Increased Visibility and Traffic:- It allows you to share your data and functionality with a broader audience, increasing traffic and visibility for your website or app.\n",
    "### Seamless Integration:- It makes it easy to integrate with other applications and services, saving you time and money.\n",
    "### Increased Efficiency:- It allows you to access data and functionality without navigating multiple menus or screens. This can speed up the development process and make your app or website more user-friendly.\n",
    "### Easier Maintenance:- It reduces the amount of work needed on the back-end, making maintenance and updates more effortless and less time-consuming.\n",
    "### Reduced Costs:- It allows developers to reuse code and functionality in multiple applications, saving time and money.\n",
    "### Improved Customer Experience:- It makes it easier for users to access your data and functionality across multiple devices or platforms, improving the user experience and increasing customer satisfaction."
   ]
  },
  {
   "cell_type": "markdown",
   "id": "38b80a55-969d-4011-b4d5-18696aa3867b",
   "metadata": {},
   "source": [
    "## Disadvantages of using API:\n",
    "### Increased Complexity:- It can be complex and challenging to use, making them challenging for novice developers.\n",
    "### Limited Functionality:- They may not have all the functionality you need, requiring additional development work.\n",
    "### Dependency on Third Party Services:- If it depends on a third-party service, your application will also be unavailable.\n",
    "### Security and Privacy Risks:- They can pose security and privacy risks if they’re not implemented correctly. Therefore, it’s essential to carefully consider these risks before using them in your application."
   ]
  },
  {
   "cell_type": "markdown",
   "id": "c5dc115b-74ce-4c27-abc4-b6471950744b",
   "metadata": {},
   "source": [
    "## Q3. What is a Web API? Differentiate between API and Web API."
   ]
  },
  {
   "cell_type": "markdown",
   "id": "0d5ba30e-f370-4925-bd4b-3ed369658641",
   "metadata": {},
   "source": [
    "### Web API is a set of standard protocols for accessing web-based softwareapplications or web tools. It provides a way for different software systems to communicate with each other over the internet."
   ]
  },
  {
   "cell_type": "markdown",
   "id": "71808eb9-a953-428e-a77f-bfaf46b4741a",
   "metadata": {},
   "source": [
    "### API can based on various protocols such as TCP, SMTP, HTTP. And work on both heterogenous and homogenous framework.\n",
    "### While Web API  is an subpart of API. It is only based on HTTP and works on only heterogenous  framework."
   ]
  },
  {
   "cell_type": "markdown",
   "id": "208fe01c-82d3-47be-96be-69193451055a",
   "metadata": {},
   "source": [
    "## Q4. Explain REST and SOAP Architecture. Mention shortcomings of SOAP."
   ]
  },
  {
   "cell_type": "markdown",
   "id": "e8d5f131-0ad1-474b-9fc9-e50e1ba108e4",
   "metadata": {},
   "source": [
    "### REST is a software architecture style for creating scalable web services, that follows REST principles.\n",
    "### SOAP is a protocol for sending and receiving messages between web applications. It helps in creating secure web services.\n",
    "### Shortcomings of SOAP are that it is not flexible and scalable in implementation."
   ]
  },
  {
   "cell_type": "markdown",
   "id": "a2ef6c0e-6741-494f-85f2-e729f166538f",
   "metadata": {},
   "source": [
    "## Q5. Differentiate between REST and SOAP."
   ]
  },
  {
   "cell_type": "markdown",
   "id": "b2ee3ca1-54d4-4201-9b73-6795d02f6337",
   "metadata": {},
   "source": [
    "###  REST is a set of guidelines that offers flexible implementation, whereas SOAP is a protocol with specific requirements like XML messaging. REST APIs are lightweight, making them ideal for newer contexts like the Internet of Things (IoT), mobile application development, and serverless computing. SOAP web services offer built-in security and transaction compliance that align with many enterprise needs, but that also makes them heavier"
   ]
  },
  {
   "cell_type": "code",
   "execution_count": null,
   "id": "09eee8e3-b66d-4b45-8f19-6cdffc9e3704",
   "metadata": {},
   "outputs": [],
   "source": []
  }
 ],
 "metadata": {
  "kernelspec": {
   "display_name": "Python 3 (ipykernel)",
   "language": "python",
   "name": "python3"
  },
  "language_info": {
   "codemirror_mode": {
    "name": "ipython",
    "version": 3
   },
   "file_extension": ".py",
   "mimetype": "text/x-python",
   "name": "python",
   "nbconvert_exporter": "python",
   "pygments_lexer": "ipython3",
   "version": "3.10.8"
  }
 },
 "nbformat": 4,
 "nbformat_minor": 5
}
